{
 "cells": [
  {
   "cell_type": "markdown",
   "id": "aac90b86",
   "metadata": {},
   "source": [
    "# \"if/elseif/else\" Blocks:"
   ]
  },
  {
   "cell_type": "code",
   "execution_count": 1,
   "id": "31d58c01",
   "metadata": {},
   "outputs": [
    {
     "name": "stdout",
     "output_type": "stream",
     "text": [
      "5\n"
     ]
    }
   ],
   "source": [
    "x = 5\n",
    "if x > 4:\n",
    "    print(x) # doesn't change the value of x"
   ]
  },
  {
   "cell_type": "markdown",
   "id": "f8eababe",
   "metadata": {},
   "source": [
    "- Logical operators doesn't change their argument's value\n",
    "- when creating an <b>if</b> block you also have to add the indentation in order to make the block of code work"
   ]
  },
  {
   "cell_type": "code",
   "execution_count": 4,
   "id": "971e4af2",
   "metadata": {},
   "outputs": [
    {
     "name": "stdout",
     "output_type": "stream",
     "text": [
      "nested\n"
     ]
    }
   ],
   "source": [
    "if True:\n",
    "    if True:\n",
    "        print(\"nested\") # if the indentation is put correctly the code will work properly"
   ]
  },
  {
   "cell_type": "markdown",
   "id": "c6351676",
   "metadata": {},
   "source": [
    "- blocks of code can be nested together as long as you put the indentation correctly"
   ]
  },
  {
   "cell_type": "code",
   "execution_count": 6,
   "id": "4d1f0381",
   "metadata": {},
   "outputs": [
    {
     "name": "stdout",
     "output_type": "stream",
     "text": [
      "else block\n"
     ]
    }
   ],
   "source": [
    "if x > 6: # using our x variable\n",
    "    print(\"if block\")\n",
    "else: # when if doesn't get executed this will work\n",
    "    print(\"else block\")"
   ]
  },
  {
   "cell_type": "markdown",
   "id": "1f5ad971",
   "metadata": {},
   "source": [
    "- if the expression meets none of the conditions then <b>else</b> block gets into the action"
   ]
  },
  {
   "cell_type": "code",
   "execution_count": 9,
   "id": "28788af5",
   "metadata": {},
   "outputs": [
    {
     "name": "stdout",
     "output_type": "stream",
     "text": [
      "if block\n",
      "another if block\n"
     ]
    }
   ],
   "source": [
    "# only one of them will be executed\n",
    "if True:\n",
    "    print(\"if block\")\n",
    "elif True:\n",
    "    print(\"elif block\")\n",
    "else:\n",
    "    print(\"else block\")\n",
    "# another if block\n",
    "if True:\n",
    "    print(\"another if block\")"
   ]
  },
  {
   "cell_type": "markdown",
   "id": "daff0d2d",
   "metadata": {},
   "source": [
    "- only one of the conditional blocks gets executed unless there is another <b>if</b> block\n",
    "- <b>elif</b> block doesn't get executed if one of the upper blocks of code executed(same with <b>else</b> block)\n",
    "- you don't always have to put <b>else</b> block after other conditional blocks"
   ]
  },
  {
   "cell_type": "markdown",
   "id": "bf85b639",
   "metadata": {},
   "source": [
    "# The \"try/except\" Structure:"
   ]
  },
  {
   "cell_type": "code",
   "execution_count": 13,
   "id": "07c6ebe4",
   "metadata": {},
   "outputs": [
    {
     "name": "stdout",
     "output_type": "stream",
     "text": [
      "wrong type\n",
      "after traceback\n"
     ]
    }
   ],
   "source": [
    "try:\n",
    "    print(\"a\" + 2) # TypeError traceback will happen in here\n",
    "except: # this block will run our written code after traceback happens\n",
    "    print(\"wrong type\")\n",
    "print('after traceback') # this will run thanks to our try/except block"
   ]
  },
  {
   "cell_type": "markdown",
   "id": "10e4ed9c",
   "metadata": {},
   "source": [
    "- with this you can prevent your code from getting stopped by an error(Traceback) and it keeps going until end of the code line\n",
    "- in <b>try</b> block you should put the code you want to run\n",
    "- in <b>except</b> block there should be kind of a code in case an error(Traceback) happens"
   ]
  },
  {
   "cell_type": "code",
   "execution_count": null,
   "id": "233557d1",
   "metadata": {},
   "outputs": [],
   "source": []
  }
 ],
 "metadata": {
  "kernelspec": {
   "display_name": "Python 3 (ipykernel)",
   "language": "python",
   "name": "python3"
  },
  "language_info": {
   "codemirror_mode": {
    "name": "ipython",
    "version": 3
   },
   "file_extension": ".py",
   "mimetype": "text/x-python",
   "name": "python",
   "nbconvert_exporter": "python",
   "pygments_lexer": "ipython3",
   "version": "3.9.6"
  }
 },
 "nbformat": 4,
 "nbformat_minor": 5
}
