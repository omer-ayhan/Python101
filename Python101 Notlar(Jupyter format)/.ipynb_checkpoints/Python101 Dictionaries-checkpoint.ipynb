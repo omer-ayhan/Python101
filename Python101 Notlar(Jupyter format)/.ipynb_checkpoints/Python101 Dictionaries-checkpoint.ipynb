{
 "cells": [
  {
   "cell_type": "code",
   "execution_count": 2,
   "id": "40aec609",
   "metadata": {},
   "outputs": [],
   "source": [
    "new_dict = {\"a\": \"b\", \"c\": \"d\", \"e\":\"f\"} # creating a dictionary"
   ]
  },
  {
   "cell_type": "markdown",
   "id": "dd8dd64f",
   "metadata": {},
   "source": [
    "- despite not being same as the lists, it has many features that have great uses\n",
    "- unlike lists, a dictionary has to be in key-value pair. This means every value in dictionary has to have a label. This is called \"associative array\" in most of the programming languages"
   ]
  },
  {
   "cell_type": "code",
   "execution_count": 3,
   "id": "8c1056c2",
   "metadata": {},
   "outputs": [
    {
     "name": "stdout",
     "output_type": "stream",
     "text": [
      "b\n"
     ]
    }
   ],
   "source": [
    "new_dict = {\"a\": \"b\", \"c\": \"d\", \"e\":\"f\"}\n",
    "print(new_dict[\"a\"]) # calling a value"
   ]
  },
  {
   "cell_type": "markdown",
   "id": "f4538c41",
   "metadata": {},
   "source": [
    "- dictionaries are unordered which makes index numbers useless for them(still kinda can be used)\n",
    "- if you want to use a value inside dictionary, you have to call it using that value's key name"
   ]
  },
  {
   "cell_type": "code",
   "execution_count": 6,
   "id": "f6e62fd9",
   "metadata": {},
   "outputs": [
    {
     "name": "stdout",
     "output_type": "stream",
     "text": [
      "{}\n",
      "{'a': 'b'}\n"
     ]
    }
   ],
   "source": [
    "empty_dict = dict() # empty dictionary\n",
    "print(empty_dict)\n",
    "empty_dict[\"a\"] = \"b\" # assigned dictionary\n",
    "print(empty_dict)"
   ]
  },
  {
   "cell_type": "markdown",
   "id": "54a62e61",
   "metadata": {},
   "source": [
    "- empty dictionaries can be created by using \"dict()\" function\n",
    "- you can assign a key and a value to a dictionary even after creating it. And that shows the lists and dictionaries are mutable"
   ]
  },
  {
   "cell_type": "code",
   "execution_count": 8,
   "id": "147cc34b",
   "metadata": {},
   "outputs": [
    {
     "ename": "KeyError",
     "evalue": "'c'",
     "output_type": "error",
     "traceback": [
      "\u001b[1;31m---------------------------------------------------------------------------\u001b[0m",
      "\u001b[1;31mKeyError\u001b[0m                                  Traceback (most recent call last)",
      "\u001b[1;32m<ipython-input-8-d621e8c5f0af>\u001b[0m in \u001b[0;36m<module>\u001b[1;34m\u001b[0m\n\u001b[1;32m----> 1\u001b[1;33m \u001b[0mprint\u001b[0m\u001b[1;33m(\u001b[0m\u001b[0mempty_dict\u001b[0m\u001b[1;33m[\u001b[0m\u001b[1;34m\"c\"\u001b[0m\u001b[1;33m]\u001b[0m\u001b[1;33m)\u001b[0m\u001b[1;33m\u001b[0m\u001b[1;33m\u001b[0m\u001b[0m\n\u001b[0m",
      "\u001b[1;31mKeyError\u001b[0m: 'c'"
     ]
    }
   ],
   "source": [
    "print(empty_dict[\"c\"]) # this key value doesn't exist inside that dictionary"
   ]
  },
  {
   "cell_type": "markdown",
   "id": "ddb65366",
   "metadata": {},
   "source": [
    "- in Dictionaries if you lookup something that doesn't exist you will get a traceback"
   ]
  },
  {
   "cell_type": "code",
   "execution_count": 9,
   "id": "2693abd6",
   "metadata": {},
   "outputs": [
    {
     "name": "stdout",
     "output_type": "stream",
     "text": [
      "True\n"
     ]
    }
   ],
   "source": [
    "print(\"a\" in empty_dict) # checks if \"a\" key value exist inside that dictionary"
   ]
  },
  {
   "cell_type": "markdown",
   "id": "ff556910",
   "metadata": {},
   "source": [
    "- keys inside dictionaries can be checked with \"in\" keyword"
   ]
  },
  {
   "cell_type": "markdown",
   "id": "6fa20274",
   "metadata": {},
   "source": [
    "# \"get(keyname, default value)\" method:"
   ]
  },
  {
   "cell_type": "code",
   "execution_count": 10,
   "id": "19ca63cc",
   "metadata": {},
   "outputs": [
    {
     "name": "stdout",
     "output_type": "stream",
     "text": [
      "b\n"
     ]
    }
   ],
   "source": [
    "print(new_dict.get(\"a\", False)) # gives False if it can't find the specified key"
   ]
  },
  {
   "cell_type": "markdown",
   "id": "83269212",
   "metadata": {},
   "source": [
    "- checks if specified key exists in the dictionary and returns that key's value\n",
    "- when specified key not found it returns the default value"
   ]
  },
  {
   "cell_type": "code",
   "execution_count": 11,
   "id": "518f5b4f",
   "metadata": {},
   "outputs": [
    {
     "name": "stdout",
     "output_type": "stream",
     "text": [
      "a\n",
      "c\n",
      "e\n"
     ]
    }
   ],
   "source": [
    "for key in new_dict:\n",
    "    print(key) # key values of that dictionary"
   ]
  },
  {
   "cell_type": "markdown",
   "id": "bb90a20b",
   "metadata": {},
   "source": [
    "- When you loop a dictionary it goes through the keys instead of values"
   ]
  },
  {
   "cell_type": "code",
   "execution_count": 14,
   "id": "38790ac5",
   "metadata": {},
   "outputs": [
    {
     "data": {
      "text/plain": [
       "dict_keys(['a', 'c', 'e'])"
      ]
     },
     "execution_count": 14,
     "metadata": {},
     "output_type": "execute_result"
    }
   ],
   "source": [
    "new_dict.keys()"
   ]
  },
  {
   "cell_type": "markdown",
   "id": "15b192b6",
   "metadata": {},
   "source": [
    "- \"dictionary_name.keys()\" will give you all the keys in the dictionary"
   ]
  },
  {
   "cell_type": "code",
   "execution_count": 15,
   "id": "644fe45e",
   "metadata": {},
   "outputs": [
    {
     "data": {
      "text/plain": [
       "dict_values(['b', 'd', 'f'])"
      ]
     },
     "execution_count": 15,
     "metadata": {},
     "output_type": "execute_result"
    }
   ],
   "source": [
    "new_dict.values()"
   ]
  },
  {
   "cell_type": "markdown",
   "id": "eed5649d",
   "metadata": {},
   "source": [
    "- \"dictionary_name.values()\" will give you all the values in the dictionary"
   ]
  },
  {
   "cell_type": "markdown",
   "id": "0322910a",
   "metadata": {},
   "source": [
    "# \"dictionary_name.items()\" method:"
   ]
  },
  {
   "cell_type": "code",
   "execution_count": 16,
   "id": "60bd7ee5",
   "metadata": {},
   "outputs": [
    {
     "data": {
      "text/plain": [
       "dict_items([('a', 'b'), ('c', 'd'), ('e', 'f')])"
      ]
     },
     "execution_count": 16,
     "metadata": {},
     "output_type": "execute_result"
    }
   ],
   "source": [
    "new_dict.items() # in result list, first one is key and second is value"
   ]
  },
  {
   "cell_type": "markdown",
   "id": "38154571",
   "metadata": {},
   "source": [
    "- this will return key-value pairs as tuples inside a list"
   ]
  },
  {
   "cell_type": "code",
   "execution_count": 17,
   "id": "609a7f9f",
   "metadata": {},
   "outputs": [
    {
     "name": "stdout",
     "output_type": "stream",
     "text": [
      "a b\n",
      "c d\n",
      "e f\n"
     ]
    }
   ],
   "source": [
    "for key, value in new_dict.items(): # as it's shown first variable is key, second varible is value\n",
    "    print(key, value)"
   ]
  },
  {
   "cell_type": "markdown",
   "id": "1fe08a52",
   "metadata": {},
   "source": [
    "- with this method you can loop through a dictionary with two variables, first representing the key and second representing the value"
   ]
  }
 ],
 "metadata": {
  "kernelspec": {
   "display_name": "Python 3",
   "language": "python",
   "name": "python3"
  },
  "language_info": {
   "codemirror_mode": {
    "name": "ipython",
    "version": 3
   },
   "file_extension": ".py",
   "mimetype": "text/x-python",
   "name": "python",
   "nbconvert_exporter": "python",
   "pygments_lexer": "ipython3",
   "version": "3.8.8"
  }
 },
 "nbformat": 4,
 "nbformat_minor": 5
}
