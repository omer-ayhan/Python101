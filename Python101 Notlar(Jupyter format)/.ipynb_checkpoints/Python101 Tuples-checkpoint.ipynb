{
 "cells": [
  {
   "cell_type": "code",
   "execution_count": 1,
   "id": "6071e8c8",
   "metadata": {},
   "outputs": [],
   "source": [
    "tuple_list = (1,2,3,4)"
   ]
  },
  {
   "cell_type": "markdown",
   "id": "7de68ae0",
   "metadata": {},
   "source": [
    "- more efficient version of collection which you can't change its content"
   ]
  },
  {
   "cell_type": "code",
   "execution_count": 3,
   "id": "e4fd3339",
   "metadata": {},
   "outputs": [
    {
     "ename": "TypeError",
     "evalue": "'tuple' object does not support item assignment",
     "output_type": "error",
     "traceback": [
      "\u001b[1;31m---------------------------------------------------------------------------\u001b[0m",
      "\u001b[1;31mTypeError\u001b[0m                                 Traceback (most recent call last)",
      "\u001b[1;32m<ipython-input-3-266a36c94d5d>\u001b[0m in \u001b[0;36m<module>\u001b[1;34m\u001b[0m\n\u001b[1;32m----> 1\u001b[1;33m \u001b[0mtuple_list\u001b[0m\u001b[1;33m[\u001b[0m\u001b[1;36m0\u001b[0m\u001b[1;33m]\u001b[0m \u001b[1;33m=\u001b[0m \u001b[1;36m20\u001b[0m\u001b[1;33m\u001b[0m\u001b[1;33m\u001b[0m\u001b[0m\n\u001b[0m",
      "\u001b[1;31mTypeError\u001b[0m: 'tuple' object does not support item assignment"
     ]
    }
   ],
   "source": [
    "tuple_list[0] = 20"
   ]
  },
  {
   "cell_type": "markdown",
   "id": "a59f2d49",
   "metadata": {},
   "source": [
    "- tuples are not mutable\n",
    "- since tuples are immutable, this makes them simpler and more efficient at the same time"
   ]
  },
  {
   "cell_type": "code",
   "execution_count": 4,
   "id": "0530b011",
   "metadata": {},
   "outputs": [
    {
     "data": {
      "text/plain": [
       "['__add__',\n",
       " '__class__',\n",
       " '__contains__',\n",
       " '__delattr__',\n",
       " '__dir__',\n",
       " '__doc__',\n",
       " '__eq__',\n",
       " '__format__',\n",
       " '__ge__',\n",
       " '__getattribute__',\n",
       " '__getitem__',\n",
       " '__getnewargs__',\n",
       " '__gt__',\n",
       " '__hash__',\n",
       " '__init__',\n",
       " '__init_subclass__',\n",
       " '__iter__',\n",
       " '__le__',\n",
       " '__len__',\n",
       " '__lt__',\n",
       " '__mul__',\n",
       " '__ne__',\n",
       " '__new__',\n",
       " '__reduce__',\n",
       " '__reduce_ex__',\n",
       " '__repr__',\n",
       " '__rmul__',\n",
       " '__setattr__',\n",
       " '__sizeof__',\n",
       " '__str__',\n",
       " '__subclasshook__',\n",
       " 'count',\n",
       " 'index']"
      ]
     },
     "execution_count": 4,
     "metadata": {},
     "output_type": "execute_result"
    }
   ],
   "source": [
    "dir(tuple_list)"
   ]
  },
  {
   "cell_type": "markdown",
   "id": "55209602",
   "metadata": {},
   "source": [
    "- you can't do all of the things that you do with other collection types"
   ]
  },
  {
   "cell_type": "code",
   "execution_count": 15,
   "id": "74943d8a",
   "metadata": {},
   "outputs": [
    {
     "name": "stdout",
     "output_type": "stream",
     "text": [
      "4\n",
      "5\n"
     ]
    }
   ],
   "source": [
    "(a,b) = (4,5)\n",
    "print(a)\n",
    "print(b)"
   ]
  },
  {
   "cell_type": "markdown",
   "id": "e5b60674",
   "metadata": {},
   "source": [
    "- with tuples, you can assign multiple variables or use two variables in a loop"
   ]
  },
  {
   "cell_type": "code",
   "execution_count": 16,
   "id": "911c0950",
   "metadata": {},
   "outputs": [
    {
     "name": "stdout",
     "output_type": "stream",
     "text": [
      "False\n"
     ]
    }
   ],
   "source": [
    "(c, d)=(6,5)\n",
    "print(c == a)"
   ]
  },
  {
   "cell_type": "markdown",
   "id": "064f202e",
   "metadata": {},
   "source": [
    "- tuples can be compared with other tuples"
   ]
  },
  {
   "cell_type": "code",
   "execution_count": 17,
   "id": "dcad16de",
   "metadata": {},
   "outputs": [
    {
     "data": {
      "text/plain": [
       "False"
      ]
     },
     "execution_count": 17,
     "metadata": {},
     "output_type": "execute_result"
    }
   ],
   "source": [
    "(a,b)==(c,d) # it gives because the first ones(a and  b) matches"
   ]
  },
  {
   "cell_type": "markdown",
   "id": "4132b4be",
   "metadata": {},
   "source": [
    "- when comparing tuples if the first pair matches with the condition it will stop looking for others"
   ]
  },
  {
   "cell_type": "code",
   "execution_count": 23,
   "id": "f3e22053",
   "metadata": {},
   "outputs": [
    {
     "name": "stdout",
     "output_type": "stream",
     "text": [
      "dict_items([('3', '4'), ('1', '2'), ('8', '9'), ('5', '6')])\n"
     ]
    },
    {
     "data": {
      "text/plain": [
       "[('1', '2'), ('3', '4'), ('5', '6'), ('8', '9')]"
      ]
     },
     "execution_count": 23,
     "metadata": {},
     "output_type": "execute_result"
    }
   ],
   "source": [
    "some_dict = {\"3\":\"4\" ,\"1\":\"2\", \"8\":\"9\", \"5\":\"6\"}\n",
    "print(some_dict.items())\n",
    "sorted(some_dict.items())"
   ]
  },
  {
   "cell_type": "markdown",
   "id": "3680823a",
   "metadata": {},
   "source": [
    "- helps us to sort a list of tuples\n",
    "- while sorting it takes first element into account"
   ]
  }
 ],
 "metadata": {
  "kernelspec": {
   "display_name": "Python 3",
   "language": "python",
   "name": "python3"
  },
  "language_info": {
   "codemirror_mode": {
    "name": "ipython",
    "version": 3
   },
   "file_extension": ".py",
   "mimetype": "text/x-python",
   "name": "python",
   "nbconvert_exporter": "python",
   "pygments_lexer": "ipython3",
   "version": "3.8.8"
  }
 },
 "nbformat": 4,
 "nbformat_minor": 5
}
