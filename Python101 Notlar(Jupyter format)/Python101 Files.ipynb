{
 "cells": [
  {
   "cell_type": "markdown",
   "id": "ff65e13a",
   "metadata": {},
   "source": [
    "- this kind of process gets saved into secondary memory(permanent)\n",
    "- before you want to work with a file first of all you have to use \"open(filename, mode)\" keyword"
   ]
  },
  {
   "cell_type": "code",
   "execution_count": null,
   "id": "4d760a11",
   "metadata": {},
   "outputs": [],
   "source": [
    "fopen = open(\"test.txt\",\"r\")\n",
    "print(fopen)"
   ]
  },
  {
   "cell_type": "markdown",
   "id": "91705937",
   "metadata": {},
   "source": [
    "# \"open(filename,mode)\" keyword:\n",
    "- \"open(filename, mode)\" makes file available to perform operations on it(just like open option in a text editor)\n",
    "- in \"open(filename,mode)\" if you leave mode argument empty then it's gonna put it into read mode\n",
    "- after you assigned \"open(filename,mode)\" keyword it doesn't return data instead it returns a way to interact with the data(like sockets)"
   ]
  },
  {
   "cell_type": "code",
   "execution_count": null,
   "id": "c034566c",
   "metadata": {},
   "outputs": [],
   "source": [
    "open(\"test.txt\",\"r\") # read mode\n",
    "open(\"test.txt\",\"r+\") # read and write mode\n",
    "open(\"test.txt\",\"w\") # write mode\n",
    "open(\"test.txt\",\"b\") # binary mode\n",
    "open(\"test.txt\",\"wb\") # binary write"
   ]
  },
  {
   "cell_type": "markdown",
   "id": "928f4032",
   "metadata": {},
   "source": [
    "- you can choose various file modes when you open a file"
   ]
  },
  {
   "cell_type": "code",
   "execution_count": null,
   "id": "e908e46b",
   "metadata": {},
   "outputs": [],
   "source": [
    "print(\"new line \\n new line\")"
   ]
  },
  {
   "cell_type": "markdown",
   "id": "0c983ef6",
   "metadata": {},
   "source": [
    "- you can get a newline by writing \"\\n\" to where you want it"
   ]
  },
  {
   "cell_type": "code",
   "execution_count": null,
   "id": "17dd7a7e",
   "metadata": {},
   "outputs": [],
   "source": [
    "len(\"\\n\")"
   ]
  },
  {
   "cell_type": "markdown",
   "id": "7841c807",
   "metadata": {},
   "source": [
    "- \"\\n\" is one character not two"
   ]
  },
  {
   "cell_type": "code",
   "execution_count": null,
   "id": "a95154c6",
   "metadata": {},
   "outputs": [],
   "source": [
    "print(\"with a new line\")\n",
    "print(\"without a new line\", end = \"\") # prevents having a new line\n",
    "print(\"new line\")"
   ]
  },
  {
   "cell_type": "markdown",
   "id": "2a5428f0",
   "metadata": {},
   "source": [
    "- \"print()\" function adds a newline after it gets done but there are several ways to prevent that"
   ]
  },
  {
   "cell_type": "code",
   "execution_count": null,
   "id": "75ecf49c",
   "metadata": {},
   "outputs": [],
   "source": [
    "fopen = open(\"test.txt\",\"r\")\n",
    "\n",
    "for line in fopen:\n",
    "    print(line)"
   ]
  },
  {
   "cell_type": "markdown",
   "id": "8fd41b3a",
   "metadata": {},
   "source": [
    "- opened files in \"for\" loops treated as sequences of lines. That means the loop is gonna iterate for each line in that file"
   ]
  },
  {
   "cell_type": "code",
   "execution_count": null,
   "id": "9ba7a7c3",
   "metadata": {},
   "outputs": [],
   "source": [
    "fopen = open(\"test.txt\",\"r\")\n",
    "fread = fopen.read()\n",
    "print(fread)"
   ]
  },
  {
   "cell_type": "markdown",
   "id": "d0868946",
   "metadata": {},
   "source": [
    "- you can read the whole file by using \".read()\" method"
   ]
  },
  {
   "cell_type": "code",
   "execution_count": null,
   "id": "ddd75b42",
   "metadata": {},
   "outputs": [],
   "source": [
    "fopen = open(\"test.txt\",\"r\")\n",
    "fread = fopen.read()\n",
    "print(fread.startswith(\"line 1\"))"
   ]
  },
  {
   "cell_type": "markdown",
   "id": "9a77abd3",
   "metadata": {},
   "source": [
    "- with \".startswith()\" method you can throw away useless strings in your file while looping through file"
   ]
  },
  {
   "cell_type": "code",
   "execution_count": null,
   "id": "1eeda4be",
   "metadata": {},
   "outputs": [],
   "source": [
    "try:\n",
    "    print(\"1\"+2)\n",
    "except:\n",
    "    print(\"traceback\")\n",
    "    quit() # this will stop code sequence"
   ]
  },
  {
   "cell_type": "markdown",
   "id": "9a4476bc",
   "metadata": {},
   "source": [
    "- if you don't want to keep the code running when an traceback happens. You can use \"quit()\" function to stop the sequence of the code. Also it is recommended to usually use it inside \"except\" block when using \"try/except\" blocks "
   ]
  }
 ],
 "metadata": {
  "kernelspec": {
   "display_name": "Python 3",
   "language": "python",
   "name": "python3"
  },
  "language_info": {
   "codemirror_mode": {
    "name": "ipython",
    "version": 3
   },
   "file_extension": ".py",
   "mimetype": "text/x-python",
   "name": "python",
   "nbconvert_exporter": "python",
   "pygments_lexer": "ipython3",
   "version": "3.8.8"
  }
 },
 "nbformat": 4,
 "nbformat_minor": 5
}
