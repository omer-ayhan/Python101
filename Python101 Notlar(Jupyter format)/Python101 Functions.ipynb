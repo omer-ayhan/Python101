{
 "cells": [
  {
   "cell_type": "code",
   "execution_count": 1,
   "id": "1d8e911f",
   "metadata": {},
   "outputs": [
    {
     "data": {
      "text/plain": [
       "'my function'"
      ]
     },
     "execution_count": 1,
     "metadata": {},
     "output_type": "execute_result"
    }
   ],
   "source": [
    "def my_func():\n",
    "    return \"my function\"\n",
    "\n",
    "my_func()"
   ]
  },
  {
   "cell_type": "markdown",
   "id": "e16227f5",
   "metadata": {},
   "source": [
    "# \"def\" keyword:\n",
    "- basically it is used to create functions\n",
    "- functions let us store a code and reuse it again whenever we need it\n",
    "- functions can be invoked as <b>my_func()</b>. And you shouldn't forget that if you want call a function you have to add parentheses at the end of the function's name otherwise you will just return the code inside the function\n",
    "- whenever you are calling a function you have to do it after you wrote the function"
   ]
  },
  {
   "cell_type": "code",
   "execution_count": 2,
   "id": "121c1aef",
   "metadata": {},
   "outputs": [
    {
     "ename": "NameError",
     "evalue": "name 'x' is not defined",
     "output_type": "error",
     "traceback": [
      "\u001b[1;31m---------------------------------------------------------------------------\u001b[0m",
      "\u001b[1;31mNameError\u001b[0m                                 Traceback (most recent call last)",
      "\u001b[1;32m<ipython-input-2-e88546609c23>\u001b[0m in \u001b[0;36m<module>\u001b[1;34m\u001b[0m\n\u001b[0;32m      2\u001b[0m     \u001b[0mx\u001b[0m\u001b[1;33m=\u001b[0m\u001b[1;36m5\u001b[0m\u001b[1;33m\u001b[0m\u001b[1;33m\u001b[0m\u001b[0m\n\u001b[0;32m      3\u001b[0m     \u001b[1;32mreturn\u001b[0m \u001b[0mx\u001b[0m\u001b[1;33m\u001b[0m\u001b[1;33m\u001b[0m\u001b[0m\n\u001b[1;32m----> 4\u001b[1;33m \u001b[0mprint\u001b[0m\u001b[1;33m(\u001b[0m\u001b[0mx\u001b[0m\u001b[1;33m)\u001b[0m\u001b[1;33m\u001b[0m\u001b[1;33m\u001b[0m\u001b[0m\n\u001b[0m",
      "\u001b[1;31mNameError\u001b[0m: name 'x' is not defined"
     ]
    }
   ],
   "source": [
    "def local():\n",
    "    x=5\n",
    "    return x\n",
    "print(x)"
   ]
  },
  {
   "cell_type": "markdown",
   "id": "0ee0de61",
   "metadata": {},
   "source": [
    "- variables inside functions are local which means whenever you declare a variable inside a function you can't call that variable outside of the function "
   ]
  },
  {
   "cell_type": "code",
   "execution_count": 7,
   "id": "dfa4713d",
   "metadata": {},
   "outputs": [],
   "source": [
    "def func(para):# para is a parameter\n",
    "    return para"
   ]
  },
  {
   "cell_type": "markdown",
   "id": "0237a6c7",
   "metadata": {},
   "source": [
    "# Parameter\n",
    "- variables written inside the parentheses when defining the function"
   ]
  },
  {
   "cell_type": "code",
   "execution_count": 6,
   "id": "4e49fbaa",
   "metadata": {},
   "outputs": [
    {
     "data": {
      "text/plain": [
       "'hello'"
      ]
     },
     "execution_count": 6,
     "metadata": {},
     "output_type": "execute_result"
    }
   ],
   "source": [
    "func(\"hello\") # the string inside it is an argument"
   ]
  },
  {
   "cell_type": "markdown",
   "id": "b4107509",
   "metadata": {},
   "source": [
    "# Argument\n",
    "- values(string, numbers, etc.) that are passed to functions inside the parentheses while calling the function(e.g. function_name(argument))"
   ]
  },
  {
   "cell_type": "code",
   "execution_count": 10,
   "id": "8aebf732",
   "metadata": {},
   "outputs": [
    {
     "data": {
      "text/plain": [
       "'helloworld'"
      ]
     },
     "execution_count": 10,
     "metadata": {},
     "output_type": "execute_result"
    }
   ],
   "source": [
    "def func2(para1,para2):\n",
    "    return para1 + para2\n",
    "\n",
    "func2(\"hello\",\"world\") # both para1 and para2 has to have a value"
   ]
  },
  {
   "cell_type": "markdown",
   "id": "04f43105",
   "metadata": {},
   "source": [
    "- you can have multiple parameters/arguments(each one has to be seperated with a comma)\n",
    "- when a function is to be invoked all function's parameters has to have a value as long as they have a default value"
   ]
  },
  {
   "cell_type": "code",
   "execution_count": 14,
   "id": "700baf08",
   "metadata": {},
   "outputs": [
    {
     "data": {
      "text/plain": [
       "'some string'"
      ]
     },
     "execution_count": 14,
     "metadata": {},
     "output_type": "execute_result"
    }
   ],
   "source": [
    "def func3(para):\n",
    "    return para # return our parameter as a residual value\n",
    "    print(\"test\") # this isn't gonna execute\n",
    "    \n",
    "func3(\"some string\")"
   ]
  },
  {
   "cell_type": "markdown",
   "id": "ac529273",
   "metadata": {},
   "source": [
    "# \"return\" keyword:\n",
    "- returns the residual value(result value) after function's code completed to use it throughout the code\n",
    "- codes after <b>return</b> keyword are not gonna be executed. Which means they are ignored"
   ]
  },
  {
   "cell_type": "code",
   "execution_count": 16,
   "id": "48707d28",
   "metadata": {},
   "outputs": [
    {
     "name": "stdout",
     "output_type": "stream",
     "text": [
      "None\n"
     ]
    }
   ],
   "source": [
    "def func4(para):# non-fruitful function\n",
    "    para + para # doesn't return anything\n",
    "    \n",
    "x = func4(\"hello\")\n",
    "print(x)"
   ]
  },
  {
   "cell_type": "markdown",
   "id": "08c4abda",
   "metadata": {},
   "source": [
    "- a function that doesn't return anything is called <b>non-fruitful function</b>\n",
    "- a function that returns something is called <b>fruitful function</b>"
   ]
  }
 ],
 "metadata": {
  "kernelspec": {
   "display_name": "Python 3",
   "language": "python",
   "name": "python3"
  },
  "language_info": {
   "codemirror_mode": {
    "name": "ipython",
    "version": 3
   },
   "file_extension": ".py",
   "mimetype": "text/x-python",
   "name": "python",
   "nbconvert_exporter": "python",
   "pygments_lexer": "ipython3",
   "version": "3.8.8"
  }
 },
 "nbformat": 4,
 "nbformat_minor": 5
}
