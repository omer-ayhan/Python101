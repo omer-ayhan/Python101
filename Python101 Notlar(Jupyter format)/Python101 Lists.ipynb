{
 "cells": [
  {
   "cell_type": "code",
   "execution_count": 2,
   "id": "531dfc59",
   "metadata": {},
   "outputs": [],
   "source": [
    "l = [1,2,\"abc\",None,True,5.0,[8,9]] # a collection\n",
    "x = 6 # not a collection"
   ]
  },
  {
   "cell_type": "markdown",
   "id": "1aeb6013",
   "metadata": {},
   "source": [
    "- a kind of collection that lets us to assign more than one value to single variable\n",
    "- List constants are surrounded by square brackets and the elements inside are seperated by commas \n",
    "- you can have different types of data in a list(even a list can be inside of another list)"
   ]
  },
  {
   "cell_type": "code",
   "execution_count": 3,
   "id": "d5b14757",
   "metadata": {},
   "outputs": [],
   "source": [
    "empty_l = []"
   ]
  },
  {
   "cell_type": "markdown",
   "id": "e3b6a6f7",
   "metadata": {},
   "source": [
    "- your list doesn't have to include any value which makes empty lists possible "
   ]
  },
  {
   "cell_type": "code",
   "execution_count": 4,
   "id": "ccb8c4f7",
   "metadata": {},
   "outputs": [
    {
     "name": "stdout",
     "output_type": "stream",
     "text": [
      "item 1\n",
      "item 2\n",
      "item 3\n",
      "item 5\n",
      "item b\n"
     ]
    }
   ],
   "source": [
    "for i in [1,2,3,5,\"b\"]:# this will iterate until end of the list\n",
    "    print(\"item\",i)"
   ]
  },
  {
   "cell_type": "markdown",
   "id": "f884176a",
   "metadata": {},
   "source": [
    "- lists can be used in loops. When loop starts it is gonna iterate until iteration reaches the length of the list "
   ]
  },
  {
   "cell_type": "code",
   "execution_count": 5,
   "id": "d8626042",
   "metadata": {},
   "outputs": [
    {
     "data": {
      "text/plain": [
       "1"
      ]
     },
     "execution_count": 5,
     "metadata": {},
     "output_type": "execute_result"
    }
   ],
   "source": [
    "l[0]# brings out item from our previous list"
   ]
  },
  {
   "cell_type": "markdown",
   "id": "18fb6c44",
   "metadata": {},
   "source": [
    "- elements inside a list can be called as <b>listname[index]</b>"
   ]
  },
  {
   "cell_type": "code",
   "execution_count": 6,
   "id": "df625ca9",
   "metadata": {},
   "outputs": [
    {
     "ename": "TypeError",
     "evalue": "'str' object does not support item assignment",
     "output_type": "error",
     "traceback": [
      "\u001b[1;31m---------------------------------------------------------------------------\u001b[0m",
      "\u001b[1;31mTypeError\u001b[0m                                 Traceback (most recent call last)",
      "\u001b[1;32m<ipython-input-6-9b98016b6954>\u001b[0m in \u001b[0;36m<module>\u001b[1;34m\u001b[0m\n\u001b[0;32m      1\u001b[0m \u001b[0mstr\u001b[0m \u001b[1;33m=\u001b[0m \u001b[1;34m\"string\"\u001b[0m\u001b[1;33m\u001b[0m\u001b[1;33m\u001b[0m\u001b[0m\n\u001b[1;32m----> 2\u001b[1;33m \u001b[0mstr\u001b[0m\u001b[1;33m[\u001b[0m\u001b[1;36m3\u001b[0m\u001b[1;33m]\u001b[0m \u001b[1;33m=\u001b[0m \u001b[1;34m\"a\"\u001b[0m\u001b[1;33m\u001b[0m\u001b[1;33m\u001b[0m\u001b[0m\n\u001b[0m",
      "\u001b[1;31mTypeError\u001b[0m: 'str' object does not support item assignment"
     ]
    }
   ],
   "source": [
    "str = \"string\"\n",
    "str[3] = \"a\""
   ]
  },
  {
   "cell_type": "markdown",
   "id": "1229d165",
   "metadata": {},
   "source": [
    "- even though strings have similarities to lists you can't reassign any part of that string"
   ]
  },
  {
   "cell_type": "code",
   "execution_count": 7,
   "id": "70cdce28",
   "metadata": {},
   "outputs": [
    {
     "data": {
      "text/plain": [
       "[1, 2, 3, 4, 5, 6, 7, 8]"
      ]
     },
     "execution_count": 7,
     "metadata": {},
     "output_type": "execute_result"
    }
   ],
   "source": [
    "l1 = [1,2,3,4]\n",
    "l2 = [5,6,7,8]\n",
    "\n",
    "l1 + l2"
   ]
  },
  {
   "cell_type": "markdown",
   "id": "b7c675dd",
   "metadata": {},
   "source": [
    "- lists can be concatinated"
   ]
  },
  {
   "cell_type": "code",
   "execution_count": 10,
   "id": "d24bc508",
   "metadata": {},
   "outputs": [
    {
     "data": {
      "text/plain": [
       "[3, 4]"
      ]
     },
     "execution_count": 10,
     "metadata": {},
     "output_type": "execute_result"
    }
   ],
   "source": [
    "l1[2:5]"
   ]
  },
  {
   "cell_type": "markdown",
   "id": "b2e2a35a",
   "metadata": {},
   "source": [
    "- just like strings, lists can also be sliced"
   ]
  },
  {
   "cell_type": "markdown",
   "id": "bf440ab3",
   "metadata": {},
   "source": [
    "# \"len(listname)\" function:"
   ]
  },
  {
   "cell_type": "code",
   "execution_count": 11,
   "id": "13213e56",
   "metadata": {},
   "outputs": [
    {
     "data": {
      "text/plain": [
       "4"
      ]
     },
     "execution_count": 11,
     "metadata": {},
     "output_type": "execute_result"
    }
   ],
   "source": [
    "len(l1)"
   ]
  },
  {
   "cell_type": "markdown",
   "id": "b67dc42a",
   "metadata": {},
   "source": [
    "- to learn length of a list you can use <b>len(listname)</b> function that returns number of elements inside list as an integer value(this also can be used for strings)"
   ]
  },
  {
   "cell_type": "markdown",
   "id": "c31a2f18",
   "metadata": {},
   "source": [
    "# \"range(start value, stop value, increment/decrement value)\" function:"
   ]
  },
  {
   "cell_type": "code",
   "execution_count": 13,
   "id": "85d72824",
   "metadata": {},
   "outputs": [
    {
     "name": "stdout",
     "output_type": "stream",
     "text": [
      "0\n",
      "1\n",
      "2\n",
      "3\n",
      "4\n"
     ]
    }
   ],
   "source": [
    "for i in range(5):\n",
    "    print(i)"
   ]
  },
  {
   "cell_type": "markdown",
   "id": "b33cd181",
   "metadata": {},
   "source": [
    "- \"range()\" function is a good use for using in loops\n",
    "- It is useful to use 'range()' function for counting loops"
   ]
  },
  {
   "cell_type": "code",
   "execution_count": 14,
   "id": "2df2f5f9",
   "metadata": {},
   "outputs": [
    {
     "data": {
      "text/plain": [
       "[0, 1, 2, 3, 4]"
      ]
     },
     "execution_count": 14,
     "metadata": {},
     "output_type": "execute_result"
    }
   ],
   "source": [
    "list(range(5))"
   ]
  },
  {
   "cell_type": "markdown",
   "id": "f45cde04",
   "metadata": {},
   "source": [
    "- creates a list up to but without including stop value\n",
    "- if you don't specify a start value it will start from <b>0</b>"
   ]
  },
  {
   "cell_type": "code",
   "execution_count": 16,
   "id": "ee877d04",
   "metadata": {},
   "outputs": [
    {
     "data": {
      "text/plain": [
       "[0, 2, 4, 6, 8]"
      ]
     },
     "execution_count": 16,
     "metadata": {},
     "output_type": "execute_result"
    }
   ],
   "source": [
    "list(range(0,10,2))"
   ]
  },
  {
   "cell_type": "markdown",
   "id": "3480b2be",
   "metadata": {},
   "source": [
    "- you can also specifiy an increment/decrement value to control how values will be incremented or decremented "
   ]
  },
  {
   "cell_type": "code",
   "execution_count": 18,
   "id": "1cd1d8a3",
   "metadata": {},
   "outputs": [
    {
     "data": {
      "text/plain": [
       "['__add__',\n",
       " '__class__',\n",
       " '__contains__',\n",
       " '__delattr__',\n",
       " '__delitem__',\n",
       " '__dir__',\n",
       " '__doc__',\n",
       " '__eq__',\n",
       " '__format__',\n",
       " '__ge__',\n",
       " '__getattribute__',\n",
       " '__getitem__',\n",
       " '__gt__',\n",
       " '__hash__',\n",
       " '__iadd__',\n",
       " '__imul__',\n",
       " '__init__',\n",
       " '__init_subclass__',\n",
       " '__iter__',\n",
       " '__le__',\n",
       " '__len__',\n",
       " '__lt__',\n",
       " '__mul__',\n",
       " '__ne__',\n",
       " '__new__',\n",
       " '__reduce__',\n",
       " '__reduce_ex__',\n",
       " '__repr__',\n",
       " '__reversed__',\n",
       " '__rmul__',\n",
       " '__setattr__',\n",
       " '__setitem__',\n",
       " '__sizeof__',\n",
       " '__str__',\n",
       " '__subclasshook__',\n",
       " 'append',\n",
       " 'clear',\n",
       " 'copy',\n",
       " 'count',\n",
       " 'extend',\n",
       " 'index',\n",
       " 'insert',\n",
       " 'pop',\n",
       " 'remove',\n",
       " 'reverse',\n",
       " 'sort']"
      ]
     },
     "execution_count": 18,
     "metadata": {},
     "output_type": "execute_result"
    }
   ],
   "source": [
    "dir([1,2])"
   ]
  },
  {
   "cell_type": "markdown",
   "id": "d4e52095",
   "metadata": {},
   "source": [
    "- lists have many libraries to play with"
   ]
  },
  {
   "cell_type": "markdown",
   "id": "e9da96ca",
   "metadata": {},
   "source": [
    "# \"append(specified element)\" method:"
   ]
  },
  {
   "cell_type": "code",
   "execution_count": 33,
   "id": "9a42e54f",
   "metadata": {},
   "outputs": [
    {
     "name": "stdout",
     "output_type": "stream",
     "text": [
      "before [1, 2, 3]\n",
      "after [1, 2, 3, 'a new item']\n"
     ]
    }
   ],
   "source": [
    "print(\"before\",l1) # before appending anything\n",
    "l1.append(\"a new item\")\n",
    "print(\"after\",l1)"
   ]
  },
  {
   "cell_type": "markdown",
   "id": "92f906ce",
   "metadata": {},
   "source": [
    "- <b>append(specified element)</b> method adds specified element to the end of the list\n",
    "- unlike strings, lists are mutable which means whenever you make change it affects our list variable"
   ]
  },
  {
   "cell_type": "code",
   "execution_count": 34,
   "id": "43d16835",
   "metadata": {},
   "outputs": [
    {
     "name": "stdout",
     "output_type": "stream",
     "text": [
      "None\n"
     ]
    }
   ],
   "source": [
    "new_l = [1,2,3]\n",
    "d = new_l.append(4)\n",
    "print(d)"
   ]
  },
  {
   "cell_type": "markdown",
   "id": "b35820c9",
   "metadata": {},
   "source": [
    "- you shouldn't save \"append\" method to any variable because \"append\" returns \"None\""
   ]
  },
  {
   "cell_type": "markdown",
   "id": "3989cb51",
   "metadata": {},
   "source": [
    "# \"in\"/\"not in\" operator:"
   ]
  },
  {
   "cell_type": "code",
   "execution_count": 42,
   "id": "115e88b1",
   "metadata": {},
   "outputs": [
    {
     "name": "stdout",
     "output_type": "stream",
     "text": [
      "True\n",
      "False\n"
     ]
    }
   ],
   "source": [
    "print(2 in new_l)\n",
    "\n",
    "print(5 in new_l)"
   ]
  },
  {
   "cell_type": "markdown",
   "id": "ef68bba7",
   "metadata": {},
   "source": [
    "- one of the use cases with these operators is that it lets us to check if a value exist inside intended list"
   ]
  },
  {
   "cell_type": "markdown",
   "id": "242a9169",
   "metadata": {},
   "source": [
    "# \"sort()\" method:"
   ]
  },
  {
   "cell_type": "code",
   "execution_count": 44,
   "id": "165ab133",
   "metadata": {},
   "outputs": [
    {
     "data": {
      "text/plain": [
       "['a', 'b', 'z']"
      ]
     },
     "execution_count": 44,
     "metadata": {},
     "output_type": "execute_result"
    }
   ],
   "source": [
    "l_sort = [\"b\",\"z\",\"a\"]\n",
    "\n",
    "l_sort.sort()\n",
    "l_sort"
   ]
  },
  {
   "cell_type": "markdown",
   "id": "35fe37f8",
   "metadata": {},
   "source": [
    "- this method can help you to keep your list elements in order whether it is alphabetically or numerically"
   ]
  },
  {
   "cell_type": "markdown",
   "id": "534b6787",
   "metadata": {},
   "source": [
    "# \"insert(index, element)\" method:"
   ]
  },
  {
   "cell_type": "code",
   "execution_count": 48,
   "id": "0c626fa1",
   "metadata": {},
   "outputs": [
    {
     "data": {
      "text/plain": [
       "[1, 'new list item', 2, 3, 4]"
      ]
     },
     "execution_count": 48,
     "metadata": {},
     "output_type": "execute_result"
    }
   ],
   "source": [
    "new_l.insert(1,\"new list item\")\n",
    "\n",
    "new_l"
   ]
  },
  {
   "cell_type": "markdown",
   "id": "3fcb51a7",
   "metadata": {},
   "source": [
    "- this can be used if you want to add an element at a position you want in the list"
   ]
  },
  {
   "cell_type": "markdown",
   "id": "33d6cb13",
   "metadata": {},
   "source": [
    "# \"max()\" function:"
   ]
  },
  {
   "cell_type": "code",
   "execution_count": 54,
   "id": "a2a6ac3c",
   "metadata": {},
   "outputs": [
    {
     "name": "stdout",
     "output_type": "stream",
     "text": [
      "4\n",
      "1\n"
     ]
    }
   ],
   "source": [
    "l_max_min = [1,2,3,4]\n",
    "print(max(l_max_min))\n",
    "print(min(l_max_min))"
   ]
  },
  {
   "cell_type": "markdown",
   "id": "711a71fa",
   "metadata": {},
   "source": [
    "- finds biggest element both numerically and lexicographically\n",
    "- finds smallest element both numerically and lexicographically"
   ]
  },
  {
   "cell_type": "markdown",
   "id": "5968d2a1",
   "metadata": {},
   "source": [
    "# \"sum()\" function:"
   ]
  },
  {
   "cell_type": "code",
   "execution_count": 55,
   "id": "45b398ab",
   "metadata": {},
   "outputs": [
    {
     "data": {
      "text/plain": [
       "10"
      ]
     },
     "execution_count": 55,
     "metadata": {},
     "output_type": "execute_result"
    }
   ],
   "source": [
    "sum(l_max_min)"
   ]
  },
  {
   "cell_type": "markdown",
   "id": "2f806440",
   "metadata": {},
   "source": [
    "- takes sum of numbers in the list. And given list can't include any non numeric value"
   ]
  }
 ],
 "metadata": {
  "kernelspec": {
   "display_name": "Python 3",
   "language": "python",
   "name": "python3"
  },
  "language_info": {
   "codemirror_mode": {
    "name": "ipython",
    "version": 3
   },
   "file_extension": ".py",
   "mimetype": "text/x-python",
   "name": "python",
   "nbconvert_exporter": "python",
   "pygments_lexer": "ipython3",
   "version": "3.8.8"
  }
 },
 "nbformat": 4,
 "nbformat_minor": 5
}
