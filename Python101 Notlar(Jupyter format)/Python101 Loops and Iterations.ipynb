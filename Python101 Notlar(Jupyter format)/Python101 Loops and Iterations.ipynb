{
 "cells": [
  {
   "cell_type": "code",
   "execution_count": 3,
   "id": "f0368b0b",
   "metadata": {},
   "outputs": [
    {
     "name": "stdout",
     "output_type": "stream",
     "text": [
      "0\n",
      "1\n",
      "2\n",
      "3\n",
      "4\n"
     ]
    }
   ],
   "source": [
    "i = 0\n",
    "while i<5:\n",
    "    print(i)\n",
    "    i+=1"
   ]
  },
  {
   "cell_type": "markdown",
   "id": "5a492e61",
   "metadata": {},
   "source": [
    "- Loops are basically a repeating process that keeps going until given conditions are met"
   ]
  },
  {
   "cell_type": "code",
   "execution_count": null,
   "id": "dd028e75",
   "metadata": {},
   "outputs": [],
   "source": [
    "while True: # this goes forever\n",
    "    print(\"Infinite Loop\")"
   ]
  },
  {
   "cell_type": "markdown",
   "id": "a5f385e4",
   "metadata": {},
   "source": [
    "- if the condition of the loop statys true all the time then the loop will go forever. Which is called <b>Infinite loop</b>"
   ]
  },
  {
   "cell_type": "code",
   "execution_count": 2,
   "id": "64ea7509",
   "metadata": {},
   "outputs": [
    {
     "name": "stdout",
     "output_type": "stream",
     "text": [
      "loop won't execute\n"
     ]
    }
   ],
   "source": [
    "i=0\n",
    "while False:\n",
    "    print(i)# not gonna print anything\n",
    "\n",
    "print(\"loop won't execute\")"
   ]
  },
  {
   "cell_type": "markdown",
   "id": "eaca6d51",
   "metadata": {},
   "source": [
    "- if a loop's condition is false from start hence it doesn't let the loop to execute. Then it is called <b>zero trip loop</b>"
   ]
  },
  {
   "cell_type": "code",
   "execution_count": 4,
   "id": "7b0f9037",
   "metadata": {},
   "outputs": [
    {
     "name": "stdout",
     "output_type": "stream",
     "text": [
      "s\n",
      "t\n",
      "r\n",
      "i\n",
      "n\n",
      "g\n"
     ]
    }
   ],
   "source": [
    "for str in \"string\":\n",
    "    print(str)"
   ]
  },
  {
   "cell_type": "markdown",
   "id": "eabc0b11",
   "metadata": {},
   "source": [
    "- you can loop strings by iterating through each letters "
   ]
  },
  {
   "cell_type": "markdown",
   "id": "fc963bfc",
   "metadata": {},
   "source": [
    "# \"break\" statement:"
   ]
  },
  {
   "cell_type": "code",
   "execution_count": 11,
   "id": "749d4f09",
   "metadata": {},
   "outputs": [
    {
     "name": "stdout",
     "output_type": "stream",
     "text": [
      "1\n",
      "2\n",
      "stopped\n"
     ]
    }
   ],
   "source": [
    "i = 0\n",
    "while i<5:\n",
    "    i+=1\n",
    "    if i==3:\n",
    "        print(\"stopped\")\n",
    "        break # this will stop the execution\n",
    "    print(i)"
   ]
  },
  {
   "cell_type": "markdown",
   "id": "add61dac",
   "metadata": {},
   "source": [
    "- whenever this statement gets executed inside a loop it stops the loop and jumps out of it\n",
    "- code lines after <b>break</b> statement won't work"
   ]
  },
  {
   "cell_type": "markdown",
   "id": "706522b9",
   "metadata": {},
   "source": [
    "# \"continue\" statement:"
   ]
  },
  {
   "cell_type": "code",
   "execution_count": 13,
   "id": "94c160ff",
   "metadata": {},
   "outputs": [
    {
     "name": "stdout",
     "output_type": "stream",
     "text": [
      "1\n",
      "2\n",
      "skipped\n",
      "4\n",
      "5\n"
     ]
    }
   ],
   "source": [
    "i = 0\n",
    "while i<5:\n",
    "    i+=1\n",
    "    if i==3:\n",
    "        print(\"skipped\")\n",
    "        continue # specified value will be skipped\n",
    "    print(i)"
   ]
  },
  {
   "cell_type": "markdown",
   "id": "4f5cadbe",
   "metadata": {},
   "source": [
    "- this statement skips the current value(doesn't return it) and goes to next iteration in loop but it doesn't stop the execution of that loop\n",
    "- also code lines after <b>continue</b> statement won't work"
   ]
  },
  {
   "cell_type": "markdown",
   "id": "893d9ff6",
   "metadata": {},
   "source": [
    "# \"for\" loops:"
   ]
  },
  {
   "cell_type": "code",
   "execution_count": 14,
   "id": "ae464019",
   "metadata": {},
   "outputs": [
    {
     "name": "stdout",
     "output_type": "stream",
     "text": [
      "0\n",
      "1\n",
      "2\n",
      "3\n",
      "4\n"
     ]
    }
   ],
   "source": [
    "for i in range(5):\n",
    "    print(i)"
   ]
  },
  {
   "cell_type": "markdown",
   "id": "d7a7e73f",
   "metadata": {},
   "source": [
    "- a simple way to create indefinite(iterating through a collection of values) loops\n",
    "- you have to use an iterable value(string, list, etc.) in order to execute the loop\n",
    "- body of the loop executed once for each value\n",
    "- the iteration variable passes through all of the values in the iterable collection"
   ]
  },
  {
   "cell_type": "markdown",
   "id": "34e7d967",
   "metadata": {},
   "source": [
    "# \"is\" operator:"
   ]
  },
  {
   "cell_type": "code",
   "execution_count": 17,
   "id": "726bb55e",
   "metadata": {},
   "outputs": [
    {
     "name": "stdout",
     "output_type": "stream",
     "text": [
      "'is' operator\n"
     ]
    }
   ],
   "source": [
    "z = 5\n",
    "y = 5\n",
    "if z is y:\n",
    "   print(\"'is' operator\") "
   ]
  },
  {
   "cell_type": "markdown",
   "id": "008cc924",
   "metadata": {},
   "source": [
    "- a logical operator similar to <b>==</b> operator but with stronger precedence.\n",
    "- the difference between <b>==</b> and <b>is</b> operator is that <b>is</b> operator checks for identity of two assignments(checks if they point to exact same object) while <b>==</b> operator checks for equality of variable values\n",
    "- <b>is/is not</b> usually used for True, False or None conditional expressions "
   ]
  },
  {
   "cell_type": "code",
   "execution_count": 19,
   "id": "13d10d71",
   "metadata": {},
   "outputs": [
    {
     "name": "stdout",
     "output_type": "stream",
     "text": [
      "is operator\n",
      "'==' operator\n"
     ]
    },
    {
     "name": "stderr",
     "output_type": "stream",
     "text": [
      "<>:1: SyntaxWarning: \"is\" with a literal. Did you mean \"==\"?\n",
      "<>:1: SyntaxWarning: \"is\" with a literal. Did you mean \"==\"?\n",
      "<ipython-input-19-6289cff19984>:1: SyntaxWarning: \"is\" with a literal. Did you mean \"==\"?\n",
      "  if z is 5:\n"
     ]
    }
   ],
   "source": [
    "if z is 5: # this will give you a SyntaxWarning\n",
    "    print(\"is operator\")\n",
    "    \n",
    "if z == 5:\n",
    "    print(\"'==' operator\")"
   ]
  },
  {
   "cell_type": "markdown",
   "id": "3151b316",
   "metadata": {},
   "source": [
    "- if you try use <b>is</b> operator with a literal you'll get a <b>SyntaxWarning</b>\n",
    "- you shouldn't be using <b>is</b> when you are using <b>==</b> because they don't have same use cases. Also similar thing applies to <b>is not</b>"
   ]
  },
  {
   "cell_type": "code",
   "execution_count": 20,
   "id": "3c37fcdd",
   "metadata": {},
   "outputs": [
    {
     "name": "stdout",
     "output_type": "stream",
     "text": [
      "'is not' operator\n"
     ]
    }
   ],
   "source": [
    "z=6\n",
    "if y is not z:\n",
    "    print(\"'is not' operator\")"
   ]
  },
  {
   "cell_type": "markdown",
   "id": "a6258e18",
   "metadata": {},
   "source": [
    "- Similar use case to \"is\" except it can be used instead of \"!=\" operator\n",
    "- <b>is/is not</b> usually used for True, False or None conditional expressions "
   ]
  }
 ],
 "metadata": {
  "kernelspec": {
   "display_name": "Python 3",
   "language": "python",
   "name": "python3"
  },
  "language_info": {
   "codemirror_mode": {
    "name": "ipython",
    "version": 3
   },
   "file_extension": ".py",
   "mimetype": "text/x-python",
   "name": "python",
   "nbconvert_exporter": "python",
   "pygments_lexer": "ipython3",
   "version": "3.8.8"
  }
 },
 "nbformat": 4,
 "nbformat_minor": 5
}
