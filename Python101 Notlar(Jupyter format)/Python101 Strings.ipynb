{
 "cells": [
  {
   "cell_type": "code",
   "execution_count": 1,
   "id": "27d6eaa1",
   "metadata": {},
   "outputs": [
    {
     "name": "stdout",
     "output_type": "stream",
     "text": [
      "helloworld\n"
     ]
    }
   ],
   "source": [
    "print(\"hello\" + \"world\")"
   ]
  },
  {
   "cell_type": "markdown",
   "id": "b747955f",
   "metadata": {},
   "source": [
    "- strings can be concatinated with each other"
   ]
  },
  {
   "cell_type": "code",
   "execution_count": 3,
   "id": "4523464c",
   "metadata": {},
   "outputs": [
    {
     "name": "stdout",
     "output_type": "stream",
     "text": [
      "False\n",
      "True\n"
     ]
    }
   ],
   "source": [
    "print(\"a\" == \"b\")\n",
    "print(\"ab\"<\"cd\")"
   ]
  },
  {
   "cell_type": "markdown",
   "id": "79ccac0f",
   "metadata": {},
   "source": [
    "- you can use some of the logical operators on strings(e.g. <b>==</b>, <b>></b>,<b> < </b>)"
   ]
  },
  {
   "cell_type": "markdown",
   "id": "0b9f9575",
   "metadata": {},
   "source": [
    "# \"in\" keyword:"
   ]
  },
  {
   "cell_type": "code",
   "execution_count": 4,
   "id": "97d6980d",
   "metadata": {},
   "outputs": [
    {
     "name": "stdout",
     "output_type": "stream",
     "text": [
      "True\n"
     ]
    }
   ],
   "source": [
    "str = \"abcd\"\n",
    "print(\"a\" in str)"
   ]
  },
  {
   "cell_type": "markdown",
   "id": "566ff4e2",
   "metadata": {},
   "source": [
    "- even though it can often be seen in for loops it also has other uses. For example; you can check if a string can be found inside another string(same thing for lists)"
   ]
  },
  {
   "cell_type": "code",
   "execution_count": 5,
   "id": "ea9f92e3",
   "metadata": {},
   "outputs": [
    {
     "data": {
      "text/plain": [
       "['__add__',\n",
       " '__class__',\n",
       " '__contains__',\n",
       " '__delattr__',\n",
       " '__dir__',\n",
       " '__doc__',\n",
       " '__eq__',\n",
       " '__format__',\n",
       " '__ge__',\n",
       " '__getattribute__',\n",
       " '__getitem__',\n",
       " '__getnewargs__',\n",
       " '__gt__',\n",
       " '__hash__',\n",
       " '__init__',\n",
       " '__init_subclass__',\n",
       " '__iter__',\n",
       " '__le__',\n",
       " '__len__',\n",
       " '__lt__',\n",
       " '__mod__',\n",
       " '__mul__',\n",
       " '__ne__',\n",
       " '__new__',\n",
       " '__reduce__',\n",
       " '__reduce_ex__',\n",
       " '__repr__',\n",
       " '__rmod__',\n",
       " '__rmul__',\n",
       " '__setattr__',\n",
       " '__sizeof__',\n",
       " '__str__',\n",
       " '__subclasshook__',\n",
       " 'capitalize',\n",
       " 'casefold',\n",
       " 'center',\n",
       " 'count',\n",
       " 'encode',\n",
       " 'endswith',\n",
       " 'expandtabs',\n",
       " 'find',\n",
       " 'format',\n",
       " 'format_map',\n",
       " 'index',\n",
       " 'isalnum',\n",
       " 'isalpha',\n",
       " 'isascii',\n",
       " 'isdecimal',\n",
       " 'isdigit',\n",
       " 'isidentifier',\n",
       " 'islower',\n",
       " 'isnumeric',\n",
       " 'isprintable',\n",
       " 'isspace',\n",
       " 'istitle',\n",
       " 'isupper',\n",
       " 'join',\n",
       " 'ljust',\n",
       " 'lower',\n",
       " 'lstrip',\n",
       " 'maketrans',\n",
       " 'partition',\n",
       " 'replace',\n",
       " 'rfind',\n",
       " 'rindex',\n",
       " 'rjust',\n",
       " 'rpartition',\n",
       " 'rsplit',\n",
       " 'rstrip',\n",
       " 'split',\n",
       " 'splitlines',\n",
       " 'startswith',\n",
       " 'strip',\n",
       " 'swapcase',\n",
       " 'title',\n",
       " 'translate',\n",
       " 'upper',\n",
       " 'zfill']"
      ]
     },
     "execution_count": 5,
     "metadata": {},
     "output_type": "execute_result"
    }
   ],
   "source": [
    "dir(\"string\")# lists all commands for strings"
   ]
  },
  {
   "cell_type": "markdown",
   "id": "9a60f681",
   "metadata": {},
   "source": [
    "- strings have many methods that you can do lots of things with them. You can see all of the methods by writing <b>dir(any string)</b> or you can look in documentation"
   ]
  },
  {
   "cell_type": "code",
   "execution_count": 6,
   "id": "4039b550",
   "metadata": {},
   "outputs": [
    {
     "data": {
      "text/plain": [
       "'Abcd'"
      ]
     },
     "execution_count": 6,
     "metadata": {},
     "output_type": "execute_result"
    }
   ],
   "source": [
    "str.capitalize()"
   ]
  },
  {
   "cell_type": "markdown",
   "id": "366ed747",
   "metadata": {},
   "source": [
    "- you can use <b>.capitalize()</b> method for capitalizing first letters"
   ]
  },
  {
   "cell_type": "code",
   "execution_count": 7,
   "id": "59b8e4f5",
   "metadata": {},
   "outputs": [
    {
     "data": {
      "text/plain": [
       "1"
      ]
     },
     "execution_count": 7,
     "metadata": {},
     "output_type": "execute_result"
    }
   ],
   "source": [
    "str.find(\"b\")"
   ]
  },
  {
   "cell_type": "markdown",
   "id": "be4b7cec",
   "metadata": {},
   "source": [
    "- <b>.find(string)</b> method gives the index number of found letter(returns the index of first one it found even though there is another of it later)  "
   ]
  },
  {
   "cell_type": "code",
   "execution_count": 9,
   "id": "48eba2b3",
   "metadata": {},
   "outputs": [
    {
     "data": {
      "text/plain": [
       "'Fbcd'"
      ]
     },
     "execution_count": 9,
     "metadata": {},
     "output_type": "execute_result"
    }
   ],
   "source": [
    "str.replace('a','F')"
   ]
  },
  {
   "cell_type": "markdown",
   "id": "272b98b0",
   "metadata": {},
   "source": [
    "- <b>.replace(old string, new string)</b> can be used to replace current string/strings to a new one you specified "
   ]
  },
  {
   "cell_type": "code",
   "execution_count": 11,
   "id": "0bf7f253",
   "metadata": {},
   "outputs": [
    {
     "data": {
      "text/plain": [
       "'space'"
      ]
     },
     "execution_count": 11,
     "metadata": {},
     "output_type": "execute_result"
    }
   ],
   "source": [
    "str_whitespace = \" space \"\n",
    "str_whitespace.strip()"
   ]
  },
  {
   "cell_type": "markdown",
   "id": "4176a466",
   "metadata": {},
   "source": [
    "- <b>.strip()</b> removes whitespaces in string from beginning and ending"
   ]
  },
  {
   "cell_type": "code",
   "execution_count": 12,
   "id": "619a3682",
   "metadata": {},
   "outputs": [
    {
     "data": {
      "text/plain": [
       "'space '"
      ]
     },
     "execution_count": 12,
     "metadata": {},
     "output_type": "execute_result"
    }
   ],
   "source": [
    "str_whitespace.lstrip()"
   ]
  },
  {
   "cell_type": "markdown",
   "id": "2eaeefa4",
   "metadata": {},
   "source": [
    "- <b>.lstrip()</b> removes whitespaces only from beginning "
   ]
  },
  {
   "cell_type": "code",
   "execution_count": 13,
   "id": "82b7014d",
   "metadata": {},
   "outputs": [
    {
     "data": {
      "text/plain": [
       "' space'"
      ]
     },
     "execution_count": 13,
     "metadata": {},
     "output_type": "execute_result"
    }
   ],
   "source": [
    "str_whitespace.rstrip()"
   ]
  },
  {
   "cell_type": "markdown",
   "id": "5566e6e6",
   "metadata": {},
   "source": [
    "- <b>.rstrip()</b> removes whitespaces only from ending"
   ]
  },
  {
   "cell_type": "code",
   "execution_count": 14,
   "id": "798e84b3",
   "metadata": {},
   "outputs": [
    {
     "data": {
      "text/plain": [
       "True"
      ]
     },
     "execution_count": 14,
     "metadata": {},
     "output_type": "execute_result"
    }
   ],
   "source": [
    "str.startswith(\"a\")"
   ]
  },
  {
   "cell_type": "markdown",
   "id": "b78308c4",
   "metadata": {},
   "source": [
    "- <b>.startswith(specified string)</b> returns True or False depending on desired line starts with specified string "
   ]
  },
  {
   "cell_type": "code",
   "execution_count": 16,
   "id": "2d7c4869",
   "metadata": {},
   "outputs": [
    {
     "data": {
      "text/plain": [
       "['a', 'b', 'c', 'd']"
      ]
     },
     "execution_count": 16,
     "metadata": {},
     "output_type": "execute_result"
    }
   ],
   "source": [
    "str_list = \"a b c d\"\n",
    "str_list.split()"
   ]
  },
  {
   "cell_type": "markdown",
   "id": "e2afbef4",
   "metadata": {},
   "source": [
    "- <b>.split(split value)</b> as the name suggests it splits the string according to the split value and returns it as a list. Also if you leave split value empty then the split value will be assigned as empty spaces by default"
   ]
  }
 ],
 "metadata": {
  "kernelspec": {
   "display_name": "Python 3",
   "language": "python",
   "name": "python3"
  },
  "language_info": {
   "codemirror_mode": {
    "name": "ipython",
    "version": 3
   },
   "file_extension": ".py",
   "mimetype": "text/x-python",
   "name": "python",
   "nbconvert_exporter": "python",
   "pygments_lexer": "ipython3",
   "version": "3.8.8"
  }
 },
 "nbformat": 4,
 "nbformat_minor": 5
}
